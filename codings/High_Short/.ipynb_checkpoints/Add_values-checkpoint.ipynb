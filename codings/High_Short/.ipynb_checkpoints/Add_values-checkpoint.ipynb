{
 "cells": [
  {
   "cell_type": "code",
   "execution_count": 1,
   "metadata": {},
   "outputs": [],
   "source": [
    "import pickle\n",
    "\n",
    "with open(\"result_data/values_2020-10-30_15h1m.pickle\", \"rb\") as file:\n",
    "    a1 = pickle.load(file)\n",
    "\n",
    "with open(\"result_data/values_2020-11-1_13h33m.pickle\", \"rb\") as file2:\n",
    "    a2 = pickle.load(file2)"
   ]
  },
  {
   "cell_type": "code",
   "execution_count": 3,
   "metadata": {},
   "outputs": [],
   "source": [
    "a = []\n",
    "for val in range(0, len(a1)):\n",
    "    a.append(a1[val])\n",
    "    if val < len(a2):\n",
    "        a.append(a2[val])"
   ]
  },
  {
   "cell_type": "code",
   "execution_count": 4,
   "metadata": {},
   "outputs": [],
   "source": [
    "with open(\"result_data/values_TOTAL_2020-11-1.pickle\", \"wb\") as file3:\n",
    "    pickle.dump(a, file3)"
   ]
  },
  {
   "cell_type": "code",
   "execution_count": null,
   "metadata": {},
   "outputs": [],
   "source": []
  }
 ],
 "metadata": {
  "kernelspec": {
   "display_name": "Python 3",
   "language": "python",
   "name": "python3"
  },
  "language_info": {
   "codemirror_mode": {
    "name": "ipython",
    "version": 3
   },
   "file_extension": ".py",
   "mimetype": "text/x-python",
   "name": "python",
   "nbconvert_exporter": "python",
   "pygments_lexer": "ipython3",
   "version": "3.8.5"
  }
 },
 "nbformat": 4,
 "nbformat_minor": 4
}
