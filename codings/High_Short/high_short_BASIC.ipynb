{
 "cells": [
  {
   "cell_type": "markdown",
   "metadata": {},
   "source": [
    "# \"High-Short\" - A winning strategy (sometimes)\n",
    "\n",
    "This is quite a simple \"strategy\" and builds therefore a basis on which other (more complex) strategies can be build on.\n",
    "\n",
    "The Strategy is looking for all time highs and only then, goes short. The theory behind it means, that irrational humans tend to sell just because an all time high was reached even though the price would be fair (or not). It only works on markets / indices."
   ]
  },
  {
   "cell_type": "code",
   "execution_count": 1,
   "metadata": {},
   "outputs": [],
   "source": [
    "import numpy as np\n",
    "import pandas as pd"
   ]
  },
  {
   "cell_type": "markdown",
   "metadata": {},
   "source": [
    "Importing the data, which shows for each day of the last 50 years one price. Data was provided by Thomson Reuters (University License) from 19.12.1969 (Index 0) until 13.12.2019 (Index 13044)."
   ]
  },
  {
   "cell_type": "code",
   "execution_count": 2,
   "metadata": {},
   "outputs": [
    {
     "data": {
      "text/plain": [
       "<AxesSubplot:>"
      ]
     },
     "execution_count": 2,
     "metadata": {},
     "output_type": "execute_result"
    },
    {
     "data": {
      "image/png": "[encoded data removed]",
      "text/plain": [
       "<Figure size 432x288 with 1 Axes>"
      ]
     },
     "metadata": {
      "needs_background": "light"
     },
     "output_type": "display_data"
    }
   ],
   "source": [
    "data = pd.read_csv(\"../../data/DAX_DATA/Price_History_daily_50y.csv\")\n",
    "allTimeHigh, currVal = 0, 0\n",
    "positions = []\n",
    "totalPositions, totalCost, totalResult, totalGain = 0, 0, 0, 0\n",
    "data.plot()"
   ]
  },
  {
   "cell_type": "code",
   "execution_count": 3,
   "metadata": {},
   "outputs": [],
   "source": [
    "class Position:\n",
    "    outknocked = False\n",
    "    closed = False\n",
    "    result = 0\n",
    "    gain = 0\n",
    "    \n",
    "    def __init__(self, buyPrice, index):\n",
    "        self.index = index\n",
    "        self.buyPrice = buyPrice\n",
    "        self.knockOutHurdle = round(buyPrice * (1 + knockOut), 2)\n",
    "        self.gainrealization = round(buyPrice * (1 - gainRealizationAt), 2)\n",
    "        self.cost = round(buyPrice * knockOut, 2)\n",
    "        \n",
    "    def sell(self, sellPrice, knockedOut):\n",
    "        self.sellPrice = sellPrice\n",
    "        self.closed = True\n",
    "        self.outknocked = knockedOut\n",
    "        self.result = self.buyPrice - self.sellPrice\n",
    "        if self.outknocked:\n",
    "            self.result = 0\n",
    "        self.gain = self.result - self.cost"
   ]
  },
  {
   "cell_type": "code",
   "execution_count": 4,
   "metadata": {},
   "outputs": [],
   "source": [
    "def check(currentValue):\n",
    "    for pos in positions:\n",
    "        if pos.closed:\n",
    "            continue\n",
    "        if currentValue < pos.gainrealization:\n",
    "            pos.sell(currentValue, False)\n",
    "        elif currentValue > pos.knockOutHurdle:\n",
    "            pos.sell(currentValue, True)"
   ]
  },
  {
   "cell_type": "markdown",
   "metadata": {},
   "source": [
    "### Declaration of variables\n",
    "Below are changeable variables - change them based on your preferences. Dependend on their values, the overall result can be positive (a winning strategy) or not."
   ]
  },
  {
   "cell_type": "code",
   "execution_count": 5,
   "metadata": {},
   "outputs": [],
   "source": [
    "newHighMarge = 0.005 # in percent\n",
    "gainRealizationAt = 0.02 # in percent\n",
    "knockOut = 0.02 # in percent"
   ]
  },
  {
   "cell_type": "code",
   "execution_count": 6,
   "metadata": {},
   "outputs": [],
   "source": [
    "for val in data.itertuples():\n",
    "    if allTimeHigh * (1 + newHighMarge) < val[1]:\n",
    "        positions.append(Position(val[1], val[0]))\n",
    "        allTimeHigh = val[1]\n",
    "    check(val[1])\n",
    "\n",
    "notClosedPositions = [pos for pos in positions if not pos.closed]"
   ]
  },
  {
   "cell_type": "code",
   "execution_count": 7,
   "metadata": {},
   "outputs": [],
   "source": [
    "totalKnockOuts = 0\n",
    "for pos in positions:\n",
    "    totalCost += pos.cost\n",
    "    totalResult += pos.result\n",
    "    totalGain += pos.gain\n",
    "    if pos.outknocked:\n",
    "        totalKnockOuts += 1\n",
    "    \n",
    "totalPositions = len(positions)\n",
    "totalCost = round(totalCost, 2)\n",
    "totalGain = round(totalGain, 2)\n",
    "totalResult = round(totalResult, 2)\n",
    "totalKnockOuts = round(totalKnockOuts, 2) "
   ]
  },
  {
   "cell_type": "markdown",
   "metadata": {},
   "source": [
    "### Calculating and printing results:"
   ]
  },
  {
   "cell_type": "code",
   "execution_count": 8,
   "metadata": {},
   "outputs": [
    {
     "name": "stdout",
     "output_type": "stream",
     "text": [
      "Total absolute return we could have made is: -10573.94€ for a risk (cost) of 24455.94€.\n",
      "Total percentage return: -43.24%\n",
      "Total year-over-year return: 0%\n",
      "Total knockout quote: 0.62\n",
      "Positions still open / not sold yet: 0\n"
     ]
    }
   ],
   "source": [
    "ret = (totalGain / totalCost) * 100 # in percent\n",
    "yoyret = 0\n",
    "if ret > 0:\n",
    "    yoyret = ((1+(ret / 100)) ** 0.02) * 100 - 100 # 50 years of data\n",
    "\n",
    "print(\"Total absolute return we could have made is: \" + str(totalGain) + \\\n",
    "      \"€ for a risk (cost) of \" + str(totalCost) + \"€.\")\n",
    "print(\"Total percentage return: \" + str(round(ret, 2)) + \"%\\nTotal year-over-year return: \" + \\\n",
    "      str(round(yoyret, 2))+ \"%\")\n",
    "print(\"Total knockout quote: \" + str(round((totalKnockOuts/ totalPositions), 2)))\n",
    "print(\"Positions still open / not sold yet: \" + str(len(notClosedPositions)))"
   ]
  },
  {
   "cell_type": "code",
   "execution_count": null,
   "metadata": {},
   "outputs": [],
   "source": []
  }
 ],
 "metadata": {
  "kernelspec": {
   "display_name": "Python 3",
   "language": "python",
   "name": "python3"
  },
  "language_info": {
   "codemirror_mode": {
    "name": "ipython",
    "version": 3
   },
   "file_extension": ".py",
   "mimetype": "text/x-python",
   "name": "python",
   "nbconvert_exporter": "python",
   "pygments_lexer": "ipython3",
   "version": "3.8.5"
  }
 },
 "nbformat": 4,
 "nbformat_minor": 4
}
